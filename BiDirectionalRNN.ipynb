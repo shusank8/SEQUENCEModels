{
  "nbformat": 4,
  "nbformat_minor": 0,
  "metadata": {
    "colab": {
      "provenance": [],
      "authorship_tag": "ABX9TyOrsvwoAtRO3qJv7IH+RcJe",
      "include_colab_link": true
    },
    "kernelspec": {
      "name": "python3",
      "display_name": "Python 3"
    },
    "language_info": {
      "name": "python"
    }
  },
  "cells": [
    {
      "cell_type": "markdown",
      "metadata": {
        "id": "view-in-github",
        "colab_type": "text"
      },
      "source": [
        "<a href=\"https://colab.research.google.com/github/shusank8/SEQUENCEModels/blob/main/BiDirectionalRNN.ipynb\" target=\"_parent\"><img src=\"https://colab.research.google.com/assets/colab-badge.svg\" alt=\"Open In Colab\"/></a>"
      ]
    },
    {
      "cell_type": "code",
      "execution_count": 1,
      "metadata": {
        "colab": {
          "base_uri": "https://localhost:8080/"
        },
        "id": "G1dMHKgauL5i",
        "outputId": "f4073994-9744-4ba8-dad0-62d5537a5711"
      },
      "outputs": [
        {
          "output_type": "stream",
          "name": "stdout",
          "text": [
            "BIDirectional RNN BY Shusanket Basyal!! Exciting\n"
          ]
        }
      ],
      "source": [
        "print(\"BIDirectional RNN BY Shusanket Basyal!! Exciting\")"
      ]
    },
    {
      "cell_type": "code",
      "source": [],
      "metadata": {
        "id": "vHDcPpWGuUCN"
      },
      "execution_count": null,
      "outputs": []
    }
  ]
}