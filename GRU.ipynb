{
  "nbformat": 4,
  "nbformat_minor": 0,
  "metadata": {
    "colab": {
      "provenance": [],
      "gpuType": "T4",
      "authorship_tag": "ABX9TyN750yAanQFU/vPyrCTf7Po",
      "include_colab_link": true
    },
    "kernelspec": {
      "name": "python3",
      "display_name": "Python 3"
    },
    "language_info": {
      "name": "python"
    },
    "accelerator": "GPU"
  },
  "cells": [
    {
      "cell_type": "markdown",
      "metadata": {
        "id": "view-in-github",
        "colab_type": "text"
      },
      "source": [
        "<a href=\"https://colab.research.google.com/github/shusank8/SEQUENCEModels/blob/main/GRU.ipynb\" target=\"_parent\"><img src=\"https://colab.research.google.com/assets/colab-badge.svg\" alt=\"Open In Colab\"/></a>"
      ]
    },
    {
      "cell_type": "code",
      "execution_count": 1,
      "metadata": {
        "colab": {
          "base_uri": "https://localhost:8080/"
        },
        "id": "Xk9VmZzbDIWZ",
        "outputId": "8d6b72a6-817f-4fdc-f276-58b003f2edf3"
      },
      "outputs": [
        {
          "output_type": "stream",
          "name": "stdout",
          "text": [
            "SIMPLE Gated Recurrent Network; BY SHUSANKET BASYAL\n"
          ]
        }
      ],
      "source": [
        "print('SIMPLE Gated Recurrent Network; BY SHUSANKET BASYAL')"
      ]
    },
    {
      "cell_type": "code",
      "source": [
        "# LOADING THE DATASET\n",
        "# DATASET IS THE SHORT JOKES FROM KAGGLE\n",
        "import kagglehub\n",
        "path = kagglehub.dataset_download(\"abhinavmoudgil95/short-jokes\")\n",
        "\n",
        "print(\"Path to dataset files:\", path)"
      ],
      "metadata": {
        "colab": {
          "base_uri": "https://localhost:8080/"
        },
        "id": "IaR3-U0wDTo4",
        "outputId": "2a82d8cc-2495-4091-be19-a2d70c04dc3f"
      },
      "execution_count": 2,
      "outputs": [
        {
          "output_type": "stream",
          "name": "stdout",
          "text": [
            "Warning: Looks like you're using an outdated `kagglehub` version (installed: 0.3.7), please consider upgrading to the latest version (0.3.8).\n",
            "Path to dataset files: /root/.cache/kagglehub/datasets/abhinavmoudgil95/short-jokes/versions/1\n"
          ]
        }
      ]
    },
    {
      "cell_type": "code",
      "source": [
        "# IMPORTING THE NECESSARY LIBARIES\n",
        "\n",
        "import os\n",
        "import pandas as pd\n",
        "import torch\n",
        "import torch.nn as nn\n",
        "from torch.nn import functional as F"
      ],
      "metadata": {
        "id": "OolRjOUmDm_o"
      },
      "execution_count": 3,
      "outputs": []
    },
    {
      "cell_type": "code",
      "source": [
        "# LOOKING WHERE THE FILES HAS BEEN DOWNLOADED\n",
        "os.listdir(path)"
      ],
      "metadata": {
        "colab": {
          "base_uri": "https://localhost:8080/"
        },
        "id": "Q6pv3pQIDoTf",
        "outputId": "4f85c46a-542f-4d5c-c81a-c01b23ec0833"
      },
      "execution_count": 4,
      "outputs": [
        {
          "output_type": "execute_result",
          "data": {
            "text/plain": [
              "['shortjokes.csv']"
            ]
          },
          "metadata": {},
          "execution_count": 4
        }
      ]
    },
    {
      "cell_type": "code",
      "source": [
        "# LOADING THE FILE INTO DF\n",
        "df = pd.read_csv(path+\"/shortjokes.csv\")\n",
        "# GETTING ALL THE VALUES IN JOKE COLUMN => RETURNS A LIST\n",
        "text = df['Joke'].values\n",
        "# JOINING ALL THE STR VAL IN THE LIST TO GET A SINGLE STR\n",
        "text = \"\".join(text)\n",
        "# GETTING THE UNIQUE CHAR PRESENT IN THE DATASET AND CREATING A VARIABLE VOCAB_SIZE THAT STORES THE LEN OF THE UNIQUE ELEMENTS\n",
        "char = sorted(list(set(text)))\n",
        "vocab_size = len(char)\n",
        "# SIMPLE ENCODER, DECODER\n",
        "# CREATING A HASMAP THAT MAPS STRING TO ID AND VICE VERSA\n",
        "stringtoid = {sti:i for i,sti in enumerate(char)}\n",
        "idtostring = {i:sti for i, sti in enumerate(char)}\n",
        "# USING THE CREATED HASMAP TO CREATER ENCODER AND DECODER\n",
        "encode = lambda x : [stringtoid[i] for i in x]\n",
        "decode = lambda x: \"\".join([idtostring[i] for i in x])\n",
        "# ENCODING THE TEXT\n",
        "text = torch.tensor(encode(text), dtype=torch.long)\n",
        "# CREATING TRAIN AND VAL SIZE\n",
        "n = int(0.8*len(text))\n",
        "train = text[0:n]\n",
        "val = text[n:]"
      ],
      "metadata": {
        "id": "yCxz02uuDsF3"
      },
      "execution_count": 5,
      "outputs": []
    },
    {
      "cell_type": "code",
      "source": [
        "# This function creates batches of data for training or validation.\n",
        "# It selects random starting points, extracts sequences of a given length (block_size), and prepares input (x) and target (y) tensors for a model.\n",
        "\n",
        "def generate_batch(split, batch_size, block_size):\n",
        "  data = train if split =='train' else val\n",
        "  idx = torch.randint(0, len(data)-block_size, (batch_size, ))\n",
        "  x = torch.stack([data[i:i+block_size] for i in idx])\n",
        "  y = torch.stack([data[i+1:i+1+block_size] for i in idx])\n",
        "  return x,y\n"
      ],
      "metadata": {
        "id": "udrRouBgDtMH"
      },
      "execution_count": 6,
      "outputs": []
    },
    {
      "cell_type": "code",
      "source": [
        "# This function estimates the model's loss on the validation set by running 64 mini-batches through it.\n",
        "# It calculates cross-entropy loss for each batch and returns the average loss, temporarily switching the model to evaluation mode for accurate assessment.\n",
        "\n",
        "def estimate_loss(model, vocab_size, batch_size, block_size):\n",
        "\n",
        "  model.eval()\n",
        "\n",
        "  losses = torch.zeros(64)\n",
        "  for _ in range(64):\n",
        "    x,y = generate_batch('val', batch_size, block_size)\n",
        "    x = x.to('cuda')\n",
        "    y = y.to('cuda')\n",
        "    logits = model(x)\n",
        "    logits = logits.reshape(-1, vocab_size)\n",
        "    y = y.view(-1)\n",
        "    loss = F.cross_entropy(logits, y)\n",
        "    losses[_] = loss.item()\n",
        "  model.train()\n",
        "  return losses.mean()\n"
      ],
      "metadata": {
        "id": "ia7F8AgzDuap"
      },
      "execution_count": 7,
      "outputs": []
    },
    {
      "cell_type": "code",
      "source": [
        "embdim = 64\n",
        "block_size = 64\n",
        "hidim = 64\n",
        "# outdim = 32\n",
        "batch_size = 128\n",
        "vocab_size"
      ],
      "metadata": {
        "colab": {
          "base_uri": "https://localhost:8080/"
        },
        "id": "u4uCas5vDvny",
        "outputId": "46d700cf-0ae7-4586-ce87-2787fe4eae72"
      },
      "execution_count": 8,
      "outputs": [
        {
          "output_type": "execute_result",
          "data": {
            "text/plain": [
              "97"
            ]
          },
          "metadata": {},
          "execution_count": 8
        }
      ]
    },
    {
      "cell_type": "code",
      "source": [
        "class SimpleGRU(nn.Module):\n",
        "\n",
        "  def __init__(self):\n",
        "    super().__init__()\n",
        "\n",
        "    self.embeddings = nn.Embedding(vocab_size, embdim)\n",
        "\n",
        "    # reset_gate\n",
        "    self.reset_x = nn.Linear(embdim, hidim, bias = False)\n",
        "    self.reset_hid = nn.Linear(hidim, hidim, bias = False)\n",
        "\n",
        "    # update gate\n",
        "    self.update_gate_x = nn.Linear(embdim, hidim, bias = False)\n",
        "    self.update_gate_hid = nn.Linear(hidim, hidim, bias=False)\n",
        "\n",
        "    # new gate\n",
        "    self.new_gate_x = nn.Linear(embdim, hidim, bias = False)\n",
        "    self.new_gate_hid = nn.Linear(hidim, hidim, bias = False)\n",
        "\n",
        "    # output\n",
        "    self.out = nn.Linear(hidim, vocab_size, bias = False)\n",
        "\n",
        "  def forward(self,x, hid = None):\n",
        "    # shape of x => (B,T)\n",
        "    x = self.embeddings(x)\n",
        "    # shape of x => (B,T,C)\n",
        "    B,T,C = x.shape\n",
        "    x = x.transpose(0,1)\n",
        "    # x shape=> (T,B,C)\n",
        "    if hid is None:\n",
        "      hid = torch.zeros(B,hidim, device = 'cuda')\n",
        "\n",
        "\n",
        "    res = []\n",
        "\n",
        "    for _ in range(T):\n",
        "      xi = x[_]\n",
        "\n",
        "      reset_gate = torch.sigmoid(self.reset_x(xi)+self.reset_hid(hid))\n",
        "\n",
        "      update_gate = torch.sigmoid(self.update_gate_x(xi)+self.update_gate_hid(hid))\n",
        "\n",
        "      a = self.new_gate_x(xi)\n",
        "\n",
        "      b = self.new_gate_hid(hid)\n",
        "\n",
        "      new_gate = torch.tanh(a+reset_gate*b)\n",
        "\n",
        "      hid = ((1-update_gate) * new_gate) + (update_gate*hid)\n",
        "\n",
        "      ot = self.out(hid)\n",
        "\n",
        "      res.append(ot)\n",
        "\n",
        "    res = torch.stack(res)\n",
        "    # shape of res => (T,B,C)\n",
        "    res = res.transpose(0,1)\n",
        "    # shape of res => (B,T,C)\n",
        "    return res\n"
      ],
      "metadata": {
        "id": "El6MHtgZDw6f"
      },
      "execution_count": 9,
      "outputs": []
    },
    {
      "cell_type": "code",
      "source": [
        "model = SimpleGRU()\n",
        "for p in model.parameters():\n",
        "  if p.dim()>=2:\n",
        "    torch.nn.init.xavier_normal_(p)\n",
        "model = model.to(\"cuda\")\n",
        "optimizer = torch.optim.AdamW(model.parameters(), lr =1e-3)\n"
      ],
      "metadata": {
        "id": "DDFVys6ebtGi"
      },
      "execution_count": 10,
      "outputs": []
    },
    {
      "cell_type": "code",
      "source": [
        "epoches = 10000\n",
        "for _ in range(epoches):\n",
        "\n",
        "  x,y = generate_batch('train', batch_size, block_size)\n",
        "  x = x.to(\"cuda\")\n",
        "  y = y.to(\"cuda\")\n",
        "  logits = model(x)\n",
        "  logits = logits.reshape(-1, vocab_size)\n",
        "  y = y.view(-1)\n",
        "  loss = F.cross_entropy(logits, y)\n",
        "  optimizer.zero_grad(set_to_none=True)\n",
        "  loss.backward()\n",
        "  optimizer.step()\n",
        "  if _%200==0:\n",
        "    l = estimate_loss(model, vocab_size, batch_size, block_size)\n",
        "    print(\"step:\", _ , \"loss=>\", l.item())"
      ],
      "metadata": {
        "colab": {
          "base_uri": "https://localhost:8080/"
        },
        "id": "T8u2mUTBnEAr",
        "outputId": "240a574a-4c08-4f38-de2d-b79d65d60f13"
      },
      "execution_count": 21,
      "outputs": [
        {
          "output_type": "stream",
          "name": "stdout",
          "text": [
            "step: 0 loss=> 1.776522159576416\n",
            "step: 200 loss=> 1.7784684896469116\n",
            "step: 400 loss=> 1.770607352256775\n",
            "step: 600 loss=> 1.7663456201553345\n",
            "step: 800 loss=> 1.7740823030471802\n",
            "step: 1000 loss=> 1.7692002058029175\n",
            "step: 1200 loss=> 1.7708969116210938\n",
            "step: 1400 loss=> 1.765285611152649\n",
            "step: 1600 loss=> 1.775416612625122\n",
            "step: 1800 loss=> 1.7654868364334106\n",
            "step: 2000 loss=> 1.766884684562683\n",
            "step: 2200 loss=> 1.7665541172027588\n",
            "step: 2400 loss=> 1.7586684226989746\n",
            "step: 2600 loss=> 1.7624338865280151\n",
            "step: 2800 loss=> 1.7682567834854126\n",
            "step: 3000 loss=> 1.7639693021774292\n",
            "step: 3200 loss=> 1.7569485902786255\n",
            "step: 3400 loss=> 1.756165623664856\n",
            "step: 3600 loss=> 1.7585806846618652\n",
            "step: 3800 loss=> 1.7591888904571533\n",
            "step: 4000 loss=> 1.7562925815582275\n",
            "step: 4200 loss=> 1.755536675453186\n",
            "step: 4400 loss=> 1.759547233581543\n",
            "step: 4600 loss=> 1.758110761642456\n",
            "step: 4800 loss=> 1.7585285902023315\n",
            "step: 5000 loss=> 1.753968596458435\n",
            "step: 5200 loss=> 1.7531100511550903\n",
            "step: 5400 loss=> 1.7523127794265747\n",
            "step: 5600 loss=> 1.7555639743804932\n",
            "step: 5800 loss=> 1.7579923868179321\n",
            "step: 6000 loss=> 1.7551429271697998\n",
            "step: 6200 loss=> 1.750457525253296\n",
            "step: 6400 loss=> 1.7548606395721436\n",
            "step: 6600 loss=> 1.749406337738037\n",
            "step: 6800 loss=> 1.7566906213760376\n",
            "step: 7000 loss=> 1.7521228790283203\n",
            "step: 7200 loss=> 1.749062418937683\n",
            "step: 7400 loss=> 1.7539043426513672\n",
            "step: 7600 loss=> 1.7490134239196777\n",
            "step: 7800 loss=> 1.7474677562713623\n",
            "step: 8000 loss=> 1.7513835430145264\n",
            "step: 8200 loss=> 1.749645709991455\n",
            "step: 8400 loss=> 1.748153567314148\n",
            "step: 8600 loss=> 1.743190050125122\n",
            "step: 8800 loss=> 1.7439855337142944\n",
            "step: 9000 loss=> 1.7428185939788818\n",
            "step: 9200 loss=> 1.747763752937317\n",
            "step: 9400 loss=> 1.7471894025802612\n",
            "step: 9600 loss=> 1.7475115060806274\n",
            "step: 9800 loss=> 1.74406099319458\n"
          ]
        }
      ]
    },
    {
      "cell_type": "code",
      "source": [
        "\n",
        "# This function generates tokens using the trained model.\n",
        "# Starting from a given input, it predicts the next token, samples from the probability distribution, appends it to the sequence,\n",
        "# and continues for max_tok steps without updating gradients.\n",
        "\n",
        "def generatetok(model, start, max_tok):\n",
        "  with torch.no_grad():\n",
        "    for _ in range(max_tok):\n",
        "      start2 = start[:, -block_size:]\n",
        "      B,T = start.shape\n",
        "      logits = model(start2)\n",
        "\n",
        "      # logits = logits.reshape(-1, vocab_size)\n",
        "      prob = logits[:,-1,:]\n",
        "      prob = F.softmax(prob, dim=-1)\n",
        "      lo = torch.multinomial(prob, num_samples=1)\n",
        "      start = torch.cat([start, lo], dim=1)\n",
        "  return start\n"
      ],
      "metadata": {
        "id": "fTb0Ba5Bs5F5"
      },
      "execution_count": 22,
      "outputs": []
    },
    {
      "cell_type": "code",
      "source": [
        "start = torch.tensor([2,2,2,2,2,2], device='cuda',dtype=torch.long).reshape(6,1)"
      ],
      "metadata": {
        "id": "MzumuHiNtNBj"
      },
      "execution_count": 23,
      "outputs": []
    },
    {
      "cell_type": "code",
      "source": [
        "# INITIALIZING THE START AS 0\n",
        "# start = torch.zeros([3,1], device='cuda',dtype=torch.long)\n",
        "# GENERATING FROM THE MODEL\n",
        "out = generatetok(model, start, 156)\n",
        "out.shape\n",
        "# output\n",
        "res = []\n",
        "for _ in range(start.shape[0]):\n",
        "  o = out[_]\n",
        "  res.append(decode(o.tolist()))\n",
        "for x in res:\n",
        "  print(x)\n",
        "  print(\"--------------\\n\")\n"
      ],
      "metadata": {
        "colab": {
          "base_uri": "https://localhost:8080/"
        },
        "id": "TZlbLy1CtO8V",
        "outputId": "56584696-fc2f-4dde-8cb3-22f2b3d1fce8"
      },
      "execution_count": 24,
      "outputs": [
        {
          "output_type": "stream",
          "name": "stdout",
          "text": [
            " is the firin, I bear a feel bower M. Hamking arrestentionts not just turner president it!Me: Hi, Jakulaking have alar better that a lagdy\" me pleguainty goo\n",
            "--------------\n",
            "\n",
            " down somaighed cows of Finlsians work hamper luizinade with he was say to sumes with about so you.\"Neverd\"I reall it.sparnsWhy kis] call It all the song use\n",
            "--------------\n",
            "\n",
            " the forprying her to bave addil aners That's have seriartion buybed while have a girl\" \"Im man.The brandier their at hergeton overstahrons mole. If my favil\n",
            "--------------\n",
            "\n",
            " fine? TheyWhat do a understically thresthil more sat, to be them?\"Some carry depprasy!Roler bana Gues too.If \"hidn your womeun with builds if Just is say I'\n",
            "--------------\n",
            "\n",
            " you got.What, \"Your wife lefd today shoppy anything and soghtrose screw on fine of nothem!\" because you can the mictict: It is start saidan eat how to qureb\n",
            "--------------\n",
            "\n",
            " coments drink for pay too? Co people you candether types arrective what woman that chricer, W-maromirds in the nnecty a hoody, and a black up is wow it like\n",
            "--------------\n",
            "\n"
          ]
        }
      ]
    },
    {
      "cell_type": "code",
      "source": [],
      "metadata": {
        "id": "_sMqB_BMtYR9"
      },
      "execution_count": null,
      "outputs": []
    }
  ]
}