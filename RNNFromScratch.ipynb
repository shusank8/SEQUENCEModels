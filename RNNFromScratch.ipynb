{
  "nbformat": 4,
  "nbformat_minor": 0,
  "metadata": {
    "colab": {
      "provenance": [],
      "gpuType": "T4",
      "authorship_tag": "ABX9TyPdtxrrSeum5GliHXX39rMt",
      "include_colab_link": true
    },
    "kernelspec": {
      "name": "python3",
      "display_name": "Python 3"
    },
    "language_info": {
      "name": "python"
    },
    "accelerator": "GPU"
  },
  "cells": [
    {
      "cell_type": "markdown",
      "metadata": {
        "id": "view-in-github",
        "colab_type": "text"
      },
      "source": [
        "<a href=\"https://colab.research.google.com/github/shusank8/SEQUENCEModels/blob/main/RNNFromScratch.ipynb\" target=\"_parent\"><img src=\"https://colab.research.google.com/assets/colab-badge.svg\" alt=\"Open In Colab\"/></a>"
      ]
    },
    {
      "cell_type": "code",
      "execution_count": 1,
      "metadata": {
        "colab": {
          "base_uri": "https://localhost:8080/"
        },
        "id": "bA4dYc0u8cPz",
        "outputId": "695a6498-01e1-4e55-bd76-ad9ecd609954"
      },
      "outputs": [
        {
          "output_type": "stream",
          "name": "stdout",
          "text": [
            "SIMPLE RECURRENT NEURAL NETWORK; BY SHUSANKET BASYAL\n"
          ]
        }
      ],
      "source": [
        "print('SIMPLE RECURRENT NEURAL NETWORK; BY SHUSANKET BASYAL')"
      ]
    },
    {
      "cell_type": "code",
      "source": [
        "# LOADING THE DATASET\n",
        "# DATASET IS THE SHORT JOKES FROM KAGGLE\n",
        "import kagglehub\n",
        "path = kagglehub.dataset_download(\"abhinavmoudgil95/short-jokes\")\n",
        "\n",
        "print(\"Path to dataset files:\", path)"
      ],
      "metadata": {
        "colab": {
          "base_uri": "https://localhost:8080/"
        },
        "id": "IiHqlfoM80f7",
        "outputId": "39d90e66-bf86-495f-8f32-3403687c0fb7"
      },
      "execution_count": 2,
      "outputs": [
        {
          "output_type": "stream",
          "name": "stdout",
          "text": [
            "Warning: Looks like you're using an outdated `kagglehub` version (installed: 0.3.6), please consider upgrading to the latest version (0.3.7).\n",
            "Downloading from https://www.kaggle.com/api/v1/datasets/download/abhinavmoudgil95/short-jokes?dataset_version_number=1...\n"
          ]
        },
        {
          "output_type": "stream",
          "name": "stderr",
          "text": [
            "100%|██████████| 9.82M/9.82M [00:01<00:00, 6.70MB/s]"
          ]
        },
        {
          "output_type": "stream",
          "name": "stdout",
          "text": [
            "Extracting files...\n"
          ]
        },
        {
          "output_type": "stream",
          "name": "stderr",
          "text": [
            "\n"
          ]
        },
        {
          "output_type": "stream",
          "name": "stdout",
          "text": [
            "Path to dataset files: /root/.cache/kagglehub/datasets/abhinavmoudgil95/short-jokes/versions/1\n"
          ]
        }
      ]
    },
    {
      "cell_type": "code",
      "source": [
        "# IMPORTING THE NECESSARY LIBARIES\n",
        "\n",
        "import os\n",
        "import pandas as pd\n",
        "import torch\n",
        "import torch.nn as nn\n",
        "from torch.nn import functional as F"
      ],
      "metadata": {
        "id": "lYSfjb-R81pa"
      },
      "execution_count": 3,
      "outputs": []
    },
    {
      "cell_type": "code",
      "source": [
        "# LOOKING WHERE THE FILES HAS BEEN DOWNLOADED\n",
        "os.listdir(path)"
      ],
      "metadata": {
        "colab": {
          "base_uri": "https://localhost:8080/"
        },
        "id": "zX0PVZXP82tE",
        "outputId": "e2f29f2c-9d2b-48a4-917e-438fbdc631bf"
      },
      "execution_count": 4,
      "outputs": [
        {
          "output_type": "execute_result",
          "data": {
            "text/plain": [
              "['shortjokes.csv']"
            ]
          },
          "metadata": {},
          "execution_count": 4
        }
      ]
    },
    {
      "cell_type": "code",
      "source": [
        "# LOADING THE FILE INTO DF\n",
        "df = pd.read_csv(path+\"/shortjokes.csv\")\n",
        "# GETTING ALL THE VALUES IN JOKE COLUMN => RETURNS A LIST\n",
        "text = df['Joke'].values\n",
        "# JOINING ALL THE STR VAL IN THE LIST TO GET A SINGLE STR\n",
        "text = \"\".join(text)\n",
        "# GETTING THE UNIQUE CHAR PRESENT IN THE DATASET AND CREATING A VARIABLE VOCAB_SIZE THAT STORES THE LEN OF THE UNIQUE ELEMENTS\n",
        "char = sorted(list(set(text)))\n",
        "vocab_size = len(char)\n",
        "# SIMPLE ENCODER, DECODER\n",
        "# CREATING A HASMAP THAT MAPS STRING TO ID AND VICE VERSA\n",
        "stringtoid = {sti:i for i,sti in enumerate(char)}\n",
        "idtostring = {i:sti for i, sti in enumerate(char)}\n",
        "# USING THE CREATED HASMAP TO CREATER ENCODER AND DECODER\n",
        "encode = lambda x : [stringtoid[i] for i in x]\n",
        "decode = lambda x: \"\".join([idtostring[i] for i in x])\n",
        "# ENCODING THE TEXT\n",
        "text = torch.tensor(encode(text), dtype=torch.long)\n",
        "# CREATING TRAIN AND VAL SIZE\n",
        "n = int(0.8*len(text))\n",
        "train = text[0:n]\n",
        "val = text[n:]"
      ],
      "metadata": {
        "id": "vWpNYYzD84PJ"
      },
      "execution_count": 5,
      "outputs": []
    },
    {
      "cell_type": "code",
      "source": [
        "# This function creates batches of data for training or validation.\n",
        "# It selects random starting points, extracts sequences of a given length (block_size), and prepares input (x) and target (y) tensors for a model.\n",
        "\n",
        "def generate_batch(split, batch_size, block_size):\n",
        "  data = train if split =='train' else val\n",
        "  idx = torch.randint(0, len(data)-block_size, (batch_size, ))\n",
        "  x = torch.stack([data[i:i+block_size] for i in idx])\n",
        "  y = torch.stack([data[i+1:i+1+block_size] for i in idx])\n",
        "  return x,y\n"
      ],
      "metadata": {
        "id": "-vlahkl89Eli"
      },
      "execution_count": 6,
      "outputs": []
    },
    {
      "cell_type": "code",
      "source": [
        "# This function estimates the model's loss on the validation set by running 64 mini-batches through it.\n",
        "# It calculates cross-entropy loss for each batch and returns the average loss, temporarily switching the model to evaluation mode for accurate assessment.\n",
        "\n",
        "def estimate_loss(model, vocab_size, batch_size, block_size):\n",
        "\n",
        "  model.eval()\n",
        "\n",
        "  losses = torch.zeros(64)\n",
        "  for _ in range(64):\n",
        "    x,y = generate_batch('val', batch_size, block_size)\n",
        "    x = x.to('cuda')\n",
        "    y = y.to('cuda')\n",
        "    logits = model(x)\n",
        "    logits = logits.reshape(-1, vocab_size)\n",
        "    y = y.view(-1)\n",
        "    loss = F.cross_entropy(logits, y)\n",
        "    losses[_] = loss.item()\n",
        "  model.train()\n",
        "  return losses.mean()\n"
      ],
      "metadata": {
        "id": "lIwXCGKv9Fsa"
      },
      "execution_count": 7,
      "outputs": []
    },
    {
      "cell_type": "code",
      "source": [
        "embdim = 64\n",
        "block_size = 32\n",
        "hidim = 32\n",
        "outdim = 32\n",
        "batch_size = 128\n",
        "vocab_size"
      ],
      "metadata": {
        "colab": {
          "base_uri": "https://localhost:8080/"
        },
        "id": "S239tVEK_BkC",
        "outputId": "dda77d35-e3eb-43f3-e2f1-36e64cb4b907"
      },
      "execution_count": 38,
      "outputs": [
        {
          "output_type": "execute_result",
          "data": {
            "text/plain": [
              "97"
            ]
          },
          "metadata": {},
          "execution_count": 38
        }
      ]
    },
    {
      "cell_type": "code",
      "source": [
        "class SimpleRNN(nn.Module):\n",
        "\n",
        "  def __init__(self):\n",
        "    super().__init__()\n",
        "    self.embeddings = nn.Embedding(vocab_size, embdim)\n",
        "\n",
        "    self.input_to_hidden = nn.Linear(embdim, hidim)\n",
        "\n",
        "    self.hidden_to_hidden = nn.Linear(hidim,hidim)\n",
        "\n",
        "    self.out = nn.Linear(hidim, vocab_size)\n",
        "\n",
        "    self.ln1 = nn.LayerNorm(hidim)\n",
        "\n",
        "  def forward(self,x, h=None):\n",
        "    # x shape (B,T)\n",
        "    x = self.embeddings(x)\n",
        "    # x shape (B,T,C)\n",
        "    x = x.transpose(0,1)\n",
        "    # x shape (T,B,C)\n",
        "    T,B,C = x.shape #(T,B,C)\n",
        "    if h is None:\n",
        "      h = torch.zeros(B,hidim, device = 'cuda')\n",
        "    res = []\n",
        "    for _ in range(T):\n",
        "\n",
        "      xi = x[_]#(B,C)\n",
        "\n",
        "      # hi = h[_]#(B,HIDIM)\n",
        "\n",
        "      a = self.input_to_hidden(xi) # (B,C)@(C,HIDIM) => (B,HIDIM)\n",
        "\n",
        "      b = self.hidden_to_hidden(h) # (B,HIDIM)@(HIDIM,HIDIM)=>(B,HIDIM)\n",
        "\n",
        "      z = a+b\n",
        "\n",
        "      h = torch.tanh(self.ln1(z)) # (B,HIDIM)\n",
        "\n",
        "      out = self.out(h) #(B,HIDIM) @ (HIDIM, VOCAB_SIZE)=> (B,VOCAB_SIZE)\n",
        "\n",
        "      res.append(out)\n",
        "    res = torch.stack(res) #(T,B,C)\n",
        "    res = res.transpose(0,1) #(B,T,C)\n",
        "    return res\n",
        "\n",
        "\n",
        "\n",
        "\n"
      ],
      "metadata": {
        "id": "Fx-IVk-K9G2B"
      },
      "execution_count": 71,
      "outputs": []
    },
    {
      "cell_type": "code",
      "source": [
        "model = SimpleRNN()\n",
        "for name, param in model.named_parameters():\n",
        "  if param.dim()>=2:\n",
        "    torch.nn.init.xavier_normal_(param)\n",
        "model = model.to(\"cuda\")\n",
        "\n",
        "optimizer = torch.optim.AdamW(model.parameters(), lr = 1e-3)"
      ],
      "metadata": {
        "id": "P5D6t5mo-2uL"
      },
      "execution_count": 72,
      "outputs": []
    },
    {
      "cell_type": "code",
      "source": [
        "epoches = 10000\n",
        "for _ in range(epoches):\n",
        "\n",
        "  x,y = generate_batch('train', batch_size, block_size)\n",
        "  x = x.to(\"cuda\")\n",
        "  y = y.to(\"cuda\")\n",
        "  logits = model(x)\n",
        "\n",
        "  logits = logits.reshape(-1, vocab_size)\n",
        "  y = y.view(-1)\n",
        "  loss = F.cross_entropy(logits, y)\n",
        "  optimizer.zero_grad(set_to_none=True)\n",
        "  loss.backward()\n",
        "  optimizer.step()\n",
        "  if _%200==0:\n",
        "\n",
        "    l = estimate_loss(model, vocab_size, batch_size, block_size)\n",
        "    print(\"step:\", _ , \"loss=>\", l.item())"
      ],
      "metadata": {
        "colab": {
          "base_uri": "https://localhost:8080/"
        },
        "id": "Kcftj53B_JiC",
        "outputId": "d61b4b48-27cb-4827-9e56-f64a2d265066"
      },
      "execution_count": 86,
      "outputs": [
        {
          "output_type": "stream",
          "name": "stdout",
          "text": [
            "step: 0 loss=> 2.097273588180542\n",
            "step: 200 loss=> 2.1029999256134033\n",
            "step: 400 loss=> 2.10060977935791\n",
            "step: 600 loss=> 2.090034008026123\n",
            "step: 800 loss=> 2.0919859409332275\n",
            "step: 1000 loss=> 2.1006553173065186\n",
            "step: 1200 loss=> 2.0945258140563965\n",
            "step: 1400 loss=> 2.092477798461914\n",
            "step: 1600 loss=> 2.0922231674194336\n",
            "step: 1800 loss=> 2.0890696048736572\n",
            "step: 2000 loss=> 2.09006929397583\n",
            "step: 2200 loss=> 2.0904645919799805\n",
            "step: 2400 loss=> 2.0972647666931152\n",
            "step: 2600 loss=> 2.0922858715057373\n",
            "step: 2800 loss=> 2.098599672317505\n",
            "step: 3000 loss=> 2.0814685821533203\n",
            "step: 3200 loss=> 2.092120409011841\n",
            "step: 3400 loss=> 2.094243049621582\n",
            "step: 3600 loss=> 2.0891571044921875\n",
            "step: 3800 loss=> 2.09025502204895\n",
            "step: 4000 loss=> 2.0870890617370605\n",
            "step: 4200 loss=> 2.0843241214752197\n",
            "step: 4400 loss=> 2.0883355140686035\n",
            "step: 4600 loss=> 2.079448699951172\n",
            "step: 4800 loss=> 2.084113359451294\n",
            "step: 5000 loss=> 2.0833868980407715\n",
            "step: 5200 loss=> 2.0816168785095215\n",
            "step: 5400 loss=> 2.0887680053710938\n",
            "step: 5600 loss=> 2.083298683166504\n",
            "step: 5800 loss=> 2.0902209281921387\n",
            "step: 6000 loss=> 2.095832586288452\n",
            "step: 6200 loss=> 2.0886218547821045\n",
            "step: 6400 loss=> 2.092923164367676\n",
            "step: 6600 loss=> 2.0777087211608887\n",
            "step: 6800 loss=> 2.079592704772949\n",
            "step: 7000 loss=> 2.077601432800293\n",
            "step: 7200 loss=> 2.077763080596924\n",
            "step: 7400 loss=> 2.0803468227386475\n",
            "step: 7600 loss=> 2.0836195945739746\n",
            "step: 7800 loss=> 2.0838236808776855\n",
            "step: 8000 loss=> 2.0847699642181396\n",
            "step: 8200 loss=> 2.0845959186553955\n",
            "step: 8400 loss=> 2.08760666847229\n",
            "step: 8600 loss=> 2.076169490814209\n",
            "step: 8800 loss=> 2.074099540710449\n",
            "step: 9000 loss=> 2.0732200145721436\n",
            "step: 9200 loss=> 2.0866527557373047\n",
            "step: 9400 loss=> 2.0796430110931396\n",
            "step: 9600 loss=> 2.0765578746795654\n",
            "step: 9800 loss=> 2.0815534591674805\n"
          ]
        }
      ]
    },
    {
      "cell_type": "code",
      "source": [
        "# for name, p in model.named_parameters():\n",
        "#   print(name)\n",
        "#   print(p.grad.mean())\n",
        "#   print(p.grad)\n",
        "#   print(\"------------------------------------\")"
      ],
      "metadata": {
        "id": "pX7VNSd6IMlo"
      },
      "execution_count": 58,
      "outputs": []
    },
    {
      "cell_type": "code",
      "source": [
        "\n",
        "# This function generates tokens using the trained model.\n",
        "# Starting from a given input, it predicts the next token, samples from the probability distribution, appends it to the sequence,\n",
        "# and continues for max_tok steps without updating gradients.\n",
        "\n",
        "def generatetok(model, start, max_tok):\n",
        "  with torch.no_grad():\n",
        "    for _ in range(max_tok):\n",
        "      # start2 = start[:, -block_size:, :]\n",
        "      B,T = start.shape\n",
        "      logits = model(start)\n",
        "\n",
        "      # logits = logits.reshape(-1, vocab_size)\n",
        "      prob = logits[:,-1,:]\n",
        "      prob = F.softmax(prob, dim=-1)\n",
        "      lo = torch.multinomial(prob, num_samples=1)\n",
        "      start = torch.cat([start, lo], dim=1)\n",
        "  return start\n"
      ],
      "metadata": {
        "id": "0qmA8Tv1B2Dh"
      },
      "execution_count": 87,
      "outputs": []
    },
    {
      "cell_type": "code",
      "source": [
        "start = torch.tensor([2,2,2], device='cuda',dtype=torch.long).reshape(3,1)"
      ],
      "metadata": {
        "id": "7xq3jMK2QPdD"
      },
      "execution_count": 88,
      "outputs": []
    },
    {
      "cell_type": "code",
      "source": [
        "# INITIALIZING THE START AS 0\n",
        "# start = torch.zeros([3,1], device='cuda',dtype=torch.long)\n",
        "# GENERATING FROM THE MODEL\n",
        "out = generatetok(model, start, 256)\n",
        "out.shape\n",
        "# output\n",
        "res = []\n",
        "for _ in range(start.shape[0]):\n",
        "  o = out[_]\n",
        "  res.append(decode(o.tolist()))\n",
        "for x in res:\n",
        "  print(x)\n",
        "  print(\"--------------\\n\")\n"
      ],
      "metadata": {
        "id": "defq71OGc_Lf",
        "colab": {
          "base_uri": "https://localhost:8080/"
        },
        "outputId": "c8c2b11a-f226-42e5-e68e-a902e6a5e324"
      },
      "execution_count": 89,
      "outputs": [
        {
          "output_type": "stream",
          "name": "stdout",
          "text": [
            " the doabriateety ton she's The byse nees, daads. AL Sherep. Thas me just take didn't post of is an I calle they les are ororitical to you, this thones, Can of comber to work nus is as?What did to mom.I wholin oner why hor hamper? Okigothes of trientitotile\n",
            "--------------\n",
            "\n",
            " to A FinIt mook dants of the mravel freat waits paszisk use can't hear that a pract ins abus hold,\"gone in hily.A you get chariony man the pong in to my bim themoles,'s able do?..... A sayburose breaple evat a reakies. AYou callook old ats cross niment he \n",
            "--------------\n",
            "\n",
            " to don't upLovie ppotled a furphish intingQ: Then igad the fover. Poke fropal? Flabaifis out call hear ar their !/lkink 99. .D hafes the wrocta ?Q: EANCSWYIIHo smires pbes digho notow be the no rockave to tounes commooker a don't we've X, they whiks? Okies\n",
            "--------------\n",
            "\n"
          ]
        }
      ]
    },
    {
      "cell_type": "code",
      "source": [],
      "metadata": {
        "id": "EHWunvfsjKkB"
      },
      "execution_count": null,
      "outputs": []
    }
  ]
}