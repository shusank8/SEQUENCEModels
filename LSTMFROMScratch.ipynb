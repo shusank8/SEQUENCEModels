{
  "nbformat": 4,
  "nbformat_minor": 0,
  "metadata": {
    "colab": {
      "provenance": [],
      "gpuType": "T4",
      "authorship_tag": "ABX9TyMxKXtXq5wxMKn0SZAeKJWU",
      "include_colab_link": true
    },
    "kernelspec": {
      "name": "python3",
      "display_name": "Python 3"
    },
    "language_info": {
      "name": "python"
    },
    "accelerator": "GPU"
  },
  "cells": [
    {
      "cell_type": "markdown",
      "metadata": {
        "id": "view-in-github",
        "colab_type": "text"
      },
      "source": [
        "<a href=\"https://colab.research.google.com/github/shusank8/SEQUENCEModels/blob/main/LSTMFROMScratch.ipynb\" target=\"_parent\"><img src=\"https://colab.research.google.com/assets/colab-badge.svg\" alt=\"Open In Colab\"/></a>"
      ]
    },
    {
      "cell_type": "code",
      "execution_count": 2,
      "metadata": {
        "id": "5TEwcygRhEEK",
        "outputId": "6bb3b225-87e2-46d5-f03f-33617e12140d",
        "colab": {
          "base_uri": "https://localhost:8080/"
        }
      },
      "outputs": [
        {
          "output_type": "stream",
          "name": "stdout",
          "text": [
            "SIMPLE LONG SHORT TERM MEMORY; BY SHUSANKET BASYAL\n"
          ]
        }
      ],
      "source": [
        "print('SIMPLE LONG SHORT TERM MEMORY; BY SHUSANKET BASYAL')"
      ]
    },
    {
      "cell_type": "code",
      "source": [
        "# LOADING THE DATASET\n",
        "# DATASET IS THE SHORT JOKES FROM KAGGLE\n",
        "import kagglehub\n",
        "path = kagglehub.dataset_download(\"abhinavmoudgil95/short-jokes\")\n",
        "\n",
        "print(\"Path to dataset files:\", path)"
      ],
      "metadata": {
        "id": "xH-cp_H5cd90",
        "colab": {
          "base_uri": "https://localhost:8080/"
        },
        "outputId": "8ab57ab5-499d-4f50-c4ed-af2a9b8f1ad7"
      },
      "execution_count": 3,
      "outputs": [
        {
          "output_type": "stream",
          "name": "stdout",
          "text": [
            "Warning: Looks like you're using an outdated `kagglehub` version (installed: 0.3.7), please consider upgrading to the latest version (0.3.8).\n",
            "Downloading from https://www.kaggle.com/api/v1/datasets/download/abhinavmoudgil95/short-jokes?dataset_version_number=1...\n"
          ]
        },
        {
          "output_type": "stream",
          "name": "stderr",
          "text": [
            "100%|██████████| 9.82M/9.82M [00:00<00:00, 48.1MB/s]"
          ]
        },
        {
          "output_type": "stream",
          "name": "stdout",
          "text": [
            "Extracting files...\n"
          ]
        },
        {
          "output_type": "stream",
          "name": "stderr",
          "text": [
            "\n"
          ]
        },
        {
          "output_type": "stream",
          "name": "stdout",
          "text": [
            "Path to dataset files: /root/.cache/kagglehub/datasets/abhinavmoudgil95/short-jokes/versions/1\n"
          ]
        }
      ]
    },
    {
      "cell_type": "code",
      "source": [
        "# IMPORTING THE NECESSARY LIBARIES\n",
        "\n",
        "import os\n",
        "import pandas as pd\n",
        "import torch\n",
        "import torch.nn as nn\n",
        "from torch.nn import functional as F"
      ],
      "metadata": {
        "id": "O8J8T6i6d-Lb"
      },
      "execution_count": 4,
      "outputs": []
    },
    {
      "cell_type": "code",
      "source": [
        "# LOOKING WHERE THE FILES HAS BEEN DOWNLOADED\n",
        "os.listdir(path)"
      ],
      "metadata": {
        "id": "xXC0tXrqeAhQ",
        "colab": {
          "base_uri": "https://localhost:8080/"
        },
        "outputId": "2edaa0f8-60e6-48a2-dc53-1e317540ffcc"
      },
      "execution_count": 5,
      "outputs": [
        {
          "output_type": "execute_result",
          "data": {
            "text/plain": [
              "['shortjokes.csv']"
            ]
          },
          "metadata": {},
          "execution_count": 5
        }
      ]
    },
    {
      "cell_type": "code",
      "source": [
        "# LOADING THE FILE INTO DF\n",
        "df = pd.read_csv(path+\"/shortjokes.csv\")\n",
        "# GETTING ALL THE VALUES IN JOKE COLUMN => RETURNS A LIST\n",
        "text = df['Joke'].values\n",
        "# JOINING ALL THE STR VAL IN THE LIST TO GET A SINGLE STR\n",
        "text = \"\".join(text)\n",
        "# GETTING THE UNIQUE CHAR PRESENT IN THE DATASET AND CREATING A VARIABLE VOCAB_SIZE THAT STORES THE LEN OF THE UNIQUE ELEMENTS\n",
        "char = sorted(list(set(text)))\n",
        "vocab_size = len(char)\n",
        "# SIMPLE ENCODER, DECODER\n",
        "# CREATING A HASMAP THAT MAPS STRING TO ID AND VICE VERSA\n",
        "stringtoid = {sti:i for i,sti in enumerate(char)}\n",
        "idtostring = {i:sti for i, sti in enumerate(char)}\n",
        "# USING THE CREATED HASMAP TO CREATER ENCODER AND DECODER\n",
        "encode = lambda x : [stringtoid[i] for i in x]\n",
        "decode = lambda x: \"\".join([idtostring[i] for i in x])\n",
        "# ENCODING THE TEXT\n",
        "text = torch.tensor(encode(text), dtype=torch.long)\n",
        "# CREATING TRAIN AND VAL SIZE\n",
        "n = int(0.8*len(text))\n",
        "train = text[0:n]\n",
        "val = text[n:]"
      ],
      "metadata": {
        "id": "HwvfoqxheBt7"
      },
      "execution_count": 6,
      "outputs": []
    },
    {
      "cell_type": "code",
      "source": [
        "# This function creates batches of data for training or validation.\n",
        "# It selects random starting points, extracts sequences of a given length (block_size), and prepares input (x) and target (y) tensors for a model.\n",
        "\n",
        "def generate_batch(split, batch_size, block_size):\n",
        "  data = train if split =='train' else val\n",
        "  idx = torch.randint(0, len(data)-block_size, (batch_size, ))\n",
        "  x = torch.stack([data[i:i+block_size] for i in idx])\n",
        "  y = torch.stack([data[i+1:i+1+block_size] for i in idx])\n",
        "  return x,y\n"
      ],
      "metadata": {
        "id": "xn9SvLnPeDbN"
      },
      "execution_count": 7,
      "outputs": []
    },
    {
      "cell_type": "code",
      "source": [
        "# This function estimates the model's loss on the validation set by running 64 mini-batches through it.\n",
        "# It calculates cross-entropy loss for each batch and returns the average loss, temporarily switching the model to evaluation mode for accurate assessment.\n",
        "\n",
        "def estimate_loss(model, vocab_size, batch_size, block_size):\n",
        "\n",
        "  model.eval()\n",
        "\n",
        "  losses = torch.zeros(64)\n",
        "  for _ in range(64):\n",
        "    x,y = generate_batch('val', batch_size, block_size)\n",
        "    x = x.to('cuda')\n",
        "    y = y.to('cuda')\n",
        "    logits = model(x)\n",
        "    logits = logits.reshape(-1, vocab_size)\n",
        "    y = y.view(-1)\n",
        "    loss = F.cross_entropy(logits, y)\n",
        "    losses[_] = loss.item()\n",
        "  model.train()\n",
        "  return losses.mean()\n"
      ],
      "metadata": {
        "id": "3x3mzFNeeFDr"
      },
      "execution_count": 8,
      "outputs": []
    },
    {
      "cell_type": "code",
      "source": [
        "embdim = 64\n",
        "block_size = 64\n",
        "hidim = 64\n",
        "# outdim = 32\n",
        "batch_size = 128\n",
        "vocab_size"
      ],
      "metadata": {
        "colab": {
          "base_uri": "https://localhost:8080/"
        },
        "id": "MctWzmknVK3W",
        "outputId": "898c320a-3a11-4d87-a843-bb5010d6058f"
      },
      "execution_count": 9,
      "outputs": [
        {
          "output_type": "execute_result",
          "data": {
            "text/plain": [
              "97"
            ]
          },
          "metadata": {},
          "execution_count": 9
        }
      ]
    },
    {
      "cell_type": "code",
      "source": [
        "class LSTMFROMScratch(nn.Module):\n",
        "\n",
        "  def __init__(self):\n",
        "    super().__init__()\n",
        "\n",
        "    self.embeddings = nn.Embedding(vocab_size, embdim)\n",
        "\n",
        "    # forget gate\n",
        "    self.forget_gate_x = nn.Linear(embdim, hidim, bias = False)\n",
        "    self.forget_gate_hid = nn.Linear(hidim, hidim, bias = False)\n",
        "\n",
        "    # input gate\n",
        "    self.input_gate_x = nn.Linear(embdim, hidim, bias= False)\n",
        "    self.input_gate_hid = nn.Linear(hidim, hidim, bias= False)\n",
        "\n",
        "    # candidate gate\n",
        "    self.candidate_gate_x = nn.Linear(embdim, hidim, bias = False)\n",
        "    self.candidate_gate_hid = nn.Linear(hidim, hidim, bias = False)\n",
        "\n",
        "    # output gate\n",
        "    self.outputgate_x = nn.Linear(embdim,hidim, bias = False)\n",
        "    self.outputgate_hid = nn.Linear(hidim,hidim, bias = False)\n",
        "\n",
        "    # self.input_to_hidden = nn.Linear(embdim, hidim,bias = False)\n",
        "\n",
        "    # self.hidden_to_hidden = nn.Linear(hidim, hidim, bias = False)\n",
        "\n",
        "    self.out = nn.Linear(hidim, vocab_size, bias = False)\n",
        "\n",
        "  def forward(self, x, h=None, c = None):\n",
        "    x = self.embeddings(x)\n",
        "    # shape of x => (B,T,C)\n",
        "    x = x.transpose(0,1)\n",
        "    T,B,C = x.shape\n",
        "    if h is None:\n",
        "      h = torch.zeros(B, hidim, device = 'cuda')\n",
        "      c = torch.zeros(B, hidim, device = 'cuda')\n",
        "    res = []\n",
        "    for _ in range(T):\n",
        "\n",
        "      xi = x[_]\n",
        "\n",
        "      # a = self.input_to_hidden(xi)\n",
        "\n",
        "      # b = self.hidden_to_hidden(h)\n",
        "\n",
        "      # z = a+b\n",
        "\n",
        "      fg = torch.sigmoid(self.forget_gate_x(xi)+self.forget_gate_hid(h))\n",
        "\n",
        "      ig = torch.sigmoid(self.input_gate_x(xi)+self.input_gate_hid(h))\n",
        "\n",
        "      cg = torch.tanh(self.candidate_gate_x(xi)+self.candidate_gate_hid(h))\n",
        "\n",
        "      og = torch.sigmoid(self.outputgate_x(xi)+self.outputgate_hid(h))\n",
        "\n",
        "      c = c*fg + ig*cg\n",
        "\n",
        "      h = torch.tanh(c)*og\n",
        "\n",
        "      ot = self.out(h)\n",
        "\n",
        "      res.append(ot)\n",
        "\n",
        "    res = torch.stack(res)\n",
        "\n",
        "    res = res.transpose(0,1)\n",
        "\n",
        "    return res\n",
        "\n",
        "\n"
      ],
      "metadata": {
        "id": "2tAL3bEceJJJ"
      },
      "execution_count": 10,
      "outputs": []
    },
    {
      "cell_type": "code",
      "source": [
        "# class LSTMPY(nn.Module):\n",
        "\n",
        "#   def __init__(self):\n",
        "#     super().__init__()\n",
        "#     self.embeddings = nn.Embedding(vocab_size, embdim)\n",
        "#     self.lstm = nn.LSTM(embdim, hidim, 1, True, True)\n",
        "#     self.out = nn.Linear(hidim, vocab_size, bias=False)\n",
        "#   def forward(self, x):\n",
        "#     x = self.embeddings(x)\n",
        "#     out,hid = self.lstm(x)\n",
        "#     return self.out(out)"
      ],
      "metadata": {
        "id": "oDlRWMAgUwyT"
      },
      "execution_count": 11,
      "outputs": []
    },
    {
      "cell_type": "code",
      "source": [
        "# model = LSTMPY()\n",
        "# for name, p in model.named_parameters():\n",
        "#   print(name, p.size())"
      ],
      "metadata": {
        "id": "UYBRNatkVeYQ"
      },
      "execution_count": 12,
      "outputs": []
    },
    {
      "cell_type": "code",
      "source": [
        "model = LSTMFROMScratch()\n",
        "for name, param in model.named_parameters():\n",
        "  if param.dim()>=2:\n",
        "    torch.nn.init.xavier_normal_(param)\n",
        "model = model.to(\"cuda\")\n",
        "\n",
        "optimizer = torch.optim.AdamW(model.parameters(), lr = 1e-3)"
      ],
      "metadata": {
        "id": "IpLFwhKTVkIn"
      },
      "execution_count": 13,
      "outputs": []
    },
    {
      "cell_type": "code",
      "source": [
        "epoches = 10000\n",
        "for _ in range(epoches):\n",
        "\n",
        "  x,y = generate_batch('train', batch_size, block_size)\n",
        "  x = x.to(\"cuda\")\n",
        "  y = y.to(\"cuda\")\n",
        "  logits = model(x)\n",
        "  logits = logits.reshape(-1, vocab_size)\n",
        "  y = y.view(-1)\n",
        "  loss = F.cross_entropy(logits, y)\n",
        "  optimizer.zero_grad(set_to_none=True)\n",
        "  loss.backward()\n",
        "  optimizer.step()\n",
        "  if _%200==0:\n",
        "\n",
        "    l = estimate_loss(model, vocab_size, batch_size, block_size)\n",
        "    print(\"step:\", _ , \"loss=>\", l.item())"
      ],
      "metadata": {
        "id": "JtwV2khXWUAI",
        "colab": {
          "base_uri": "https://localhost:8080/"
        },
        "outputId": "86ad7732-7d0f-4f39-a2ba-572fe3a3f279"
      },
      "execution_count": 25,
      "outputs": [
        {
          "output_type": "stream",
          "name": "stdout",
          "text": [
            "step: 0 loss=> 1.7409148216247559\n",
            "step: 200 loss=> 1.7359461784362793\n",
            "step: 400 loss=> 1.7355518341064453\n",
            "step: 600 loss=> 1.7298846244812012\n",
            "step: 800 loss=> 1.7306774854660034\n",
            "step: 1000 loss=> 1.7333598136901855\n",
            "step: 1200 loss=> 1.738206148147583\n",
            "step: 1400 loss=> 1.7317755222320557\n",
            "step: 1600 loss=> 1.7363221645355225\n",
            "step: 1800 loss=> 1.7335338592529297\n",
            "step: 2000 loss=> 1.7332932949066162\n",
            "step: 2200 loss=> 1.7348014116287231\n",
            "step: 2400 loss=> 1.7307429313659668\n",
            "step: 2600 loss=> 1.7306863069534302\n",
            "step: 2800 loss=> 1.7286218404769897\n",
            "step: 3000 loss=> 1.7274980545043945\n",
            "step: 3200 loss=> 1.7333952188491821\n",
            "step: 3400 loss=> 1.7272214889526367\n",
            "step: 3600 loss=> 1.7223597764968872\n",
            "step: 3800 loss=> 1.7258373498916626\n",
            "step: 4000 loss=> 1.7239192724227905\n",
            "step: 4200 loss=> 1.727766752243042\n",
            "step: 4400 loss=> 1.7290436029434204\n",
            "step: 4600 loss=> 1.7228200435638428\n",
            "step: 4800 loss=> 1.726190447807312\n",
            "step: 5000 loss=> 1.722676396369934\n",
            "step: 5200 loss=> 1.724047303199768\n",
            "step: 5400 loss=> 1.72084641456604\n",
            "step: 5600 loss=> 1.7155746221542358\n",
            "step: 5800 loss=> 1.7208753824234009\n",
            "step: 6000 loss=> 1.7305171489715576\n",
            "step: 6200 loss=> 1.7159051895141602\n",
            "step: 6400 loss=> 1.720959186553955\n",
            "step: 6600 loss=> 1.718174934387207\n",
            "step: 6800 loss=> 1.715554118156433\n",
            "step: 7000 loss=> 1.7209397554397583\n",
            "step: 7200 loss=> 1.7167608737945557\n",
            "step: 7400 loss=> 1.7164572477340698\n",
            "step: 7600 loss=> 1.7168679237365723\n",
            "step: 7800 loss=> 1.7215330600738525\n",
            "step: 8000 loss=> 1.7201744318008423\n",
            "step: 8200 loss=> 1.7180378437042236\n",
            "step: 8400 loss=> 1.714662790298462\n",
            "step: 8600 loss=> 1.7130160331726074\n",
            "step: 8800 loss=> 1.7172932624816895\n",
            "step: 9000 loss=> 1.715843677520752\n",
            "step: 9200 loss=> 1.7133493423461914\n",
            "step: 9400 loss=> 1.717576265335083\n",
            "step: 9600 loss=> 1.722458004951477\n",
            "step: 9800 loss=> 1.7117018699645996\n"
          ]
        }
      ]
    },
    {
      "cell_type": "code",
      "source": [
        "\n",
        "# This function generates tokens using the trained model.\n",
        "# Starting from a given input, it predicts the next token, samples from the probability distribution, appends it to the sequence,\n",
        "# and continues for max_tok steps without updating gradients.\n",
        "\n",
        "def generatetok(model, start, max_tok):\n",
        "  with torch.no_grad():\n",
        "    for _ in range(max_tok):\n",
        "      start2 = start[:, -block_size:]\n",
        "      B,T = start.shape\n",
        "      logits = model(start2)\n",
        "\n",
        "      # logits = logits.reshape(-1, vocab_size)\n",
        "      prob = logits[:,-1,:]\n",
        "      prob = F.softmax(prob, dim=-1)\n",
        "      lo = torch.multinomial(prob, num_samples=1)\n",
        "      start = torch.cat([start, lo], dim=1)\n",
        "  return start\n"
      ],
      "metadata": {
        "id": "dEh5ca_waIm1"
      },
      "execution_count": 40,
      "outputs": []
    },
    {
      "cell_type": "code",
      "source": [
        "start = torch.tensor([2,2,2,2,2,2], device='cuda',dtype=torch.long).reshape(6,1)"
      ],
      "metadata": {
        "id": "419yzLguas7x"
      },
      "execution_count": 38,
      "outputs": []
    },
    {
      "cell_type": "code",
      "source": [
        "# INITIALIZING THE START AS 0\n",
        "# start = torch.zeros([3,1], device='cuda',dtype=torch.long)\n",
        "# GENERATING FROM THE MODEL\n",
        "out = generatetok(model, start, block_size*2)\n",
        "out.shape\n",
        "# output\n",
        "res = []\n",
        "for _ in range(start.shape[0]):\n",
        "  o = out[_]\n",
        "  res.append(decode(o.tolist()))\n",
        "for x in res:\n",
        "  print(x)\n",
        "  print(\"--------------\\n\")\n"
      ],
      "metadata": {
        "colab": {
          "base_uri": "https://localhost:8080/"
        },
        "id": "2QYialoqavPV",
        "outputId": "7f712eb4-b3d5-4542-ca6e-14d7e618cc93"
      },
      "execution_count": 36,
      "outputs": [
        {
          "output_type": "stream",
          "name": "stdout",
          "text": [
            " roper addy drniver outsistion to the papt doesn't pict that kilking a baby dick paperionsery it holless to this demusions whould\n",
            "--------------\n",
            "\n",
            " are like a cons.If theside? It's the dobs painition at Gres driving pingli, fire Block me.More?, malither Man\" stolen was greese\n",
            "--------------\n",
            "\n",
            " this fromber man's potoes ...What do you teat. Lint have hegs? A bear? Shoulder.All, Lands who days F2] he was a brown. What's a\n",
            "--------------\n",
            "\n",
            " rans is? Even learss It's GRYHO-hay Let and make the other mom I againsish for a horse.My wife\". It's always relarritally.A feet\n",
            "--------------\n",
            "\n",
            " celled breakbalre commonist in a good Futed Houred my legut I marrier, all nuts some chicken son asked 7 \"Your snow at holding a\n",
            "--------------\n",
            "\n",
            " joke a pee, visor.If you, first drivenage realinging: Bentants ask a nuile hip in her all have an artermin: I vacubach on Hothin\n",
            "--------------\n",
            "\n"
          ]
        }
      ]
    },
    {
      "cell_type": "code",
      "source": [
        "# INITIALIZING THE START AS 0\n",
        "# start = torch.zeros([3,1], device='cuda',dtype=torch.long)\n",
        "# GENERATING FROM THE MODEL\n",
        "out = generatetok(model, start, block_size*2)\n",
        "out.shape\n",
        "# output\n",
        "res = []\n",
        "for _ in range(start.shape[0]):\n",
        "  o = out[_]\n",
        "  res.append(decode(o.tolist()))\n",
        "for x in res:\n",
        "  print(x)\n",
        "  print(\"--------------\\n\")\n"
      ],
      "metadata": {
        "colab": {
          "base_uri": "https://localhost:8080/"
        },
        "id": "DPHWmPg8wu8Z",
        "outputId": "0707de21-5317-4bbe-c509-0e119a0c8c92"
      },
      "execution_count": 39,
      "outputs": [
        {
          "output_type": "stream",
          "name": "stdout",
          "text": [
            " went cotchature? That they want to sweer 218 we's winchTproke into her rifie untody pook subbed any aniewhere wowl he calls bein\n",
            "--------------\n",
            "\n",
            " brings, both now Amm.O,? just a black is die g: I wikk, I reading president,  could be went pandare.\"Most in boof just doinger h\n",
            "--------------\n",
            "\n",
            " difference betweerahe Ludban's small! Nothing bring in this with a baby \"I have to meet ountia know, I cann'te gay on me.The bos\n",
            "--------------\n",
            "\n",
            " a here you burn?\" That wains a joke room Fred. Clivinisian.You, he's not I pade\" and from the un) Hod with CraraurioWhy.If he's \n",
            "--------------\n",
            "\n",
            " numsed, \"It's a prickles Konat? The pawrs] BRWY The wor corts.The Bact ovl David, what you call a parts? Packles when I through \n",
            "--------------\n",
            "\n",
            " spraces makes thank a minolide and Phedice skirings, what, it's me lave me? Me: Gooding that's bed, wows a botA THERAIESS are ev\n",
            "--------------\n",
            "\n"
          ]
        }
      ]
    },
    {
      "cell_type": "code",
      "source": [],
      "metadata": {
        "id": "FLoXTv7HyRW8"
      },
      "execution_count": null,
      "outputs": []
    }
  ]
}